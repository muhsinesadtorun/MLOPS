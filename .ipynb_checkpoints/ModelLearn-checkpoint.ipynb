{
 "cells": [
  {
   "cell_type": "code",
   "execution_count": 1,
   "id": "5199b066",
   "metadata": {},
   "outputs": [
    {
     "name": "stderr",
     "output_type": "stream",
     "text": [
      "2023-05-22 01:17:36.538928: I tensorflow/tsl/cuda/cudart_stub.cc:28] Could not find cuda drivers on your machine, GPU will not be used.\n",
      "2023-05-22 01:17:36.575679: I tensorflow/tsl/cuda/cudart_stub.cc:28] Could not find cuda drivers on your machine, GPU will not be used.\n",
      "2023-05-22 01:17:36.576417: I tensorflow/core/platform/cpu_feature_guard.cc:182] This TensorFlow binary is optimized to use available CPU instructions in performance-critical operations.\n",
      "To enable the following instructions: AVX2 FMA, in other operations, rebuild TensorFlow with the appropriate compiler flags.\n",
      "2023-05-22 01:17:37.212947: W tensorflow/compiler/tf2tensorrt/utils/py_utils.cc:38] TF-TRT Warning: Could not find TensorRT\n"
     ]
    }
   ],
   "source": [
    "import joblib\n",
    "import numpy as np\n",
    "import tensorflow as tf\n",
    "from tensorflow.keras.models import Sequential\n",
    "from tensorflow.keras.layers import Conv2D, MaxPooling2D, Flatten, Dense\n",
    "\n",
    "\n",
    "import tensorflow as tf\n",
    "from tensorflow.keras import datasets, layers, models\n",
    "from tensorflow.keras.preprocessing import image\n",
    "from tensorflow.keras.preprocessing import image\n",
    "from tensorflow.keras.applications.resnet50 import preprocess_input, decode_predictions\n",
    "import matplotlib.pyplot as plt\n",
    "import numpy as np\n",
    "import joblib"
   ]
  },
  {
   "cell_type": "code",
   "execution_count": 2,
   "id": "1a9efb2b",
   "metadata": {},
   "outputs": [],
   "source": [
    "# Generate some dummy data\n",
    "#x_train = np.random.random((1000, 28, 28, 3))\n",
    "#y_train = np.random.randint(2, size=(1000, 1))\n",
    "\n",
    "(X_train, y_train), (X_test, y_test) = datasets.cifar10.load_data()\n"
   ]
  },
  {
   "cell_type": "code",
   "execution_count": 3,
   "id": "65408c6c",
   "metadata": {},
   "outputs": [
    {
     "data": {
      "text/plain": [
       "array([6, 9, 9, 4, 1], dtype=uint8)"
      ]
     },
     "execution_count": 3,
     "metadata": {},
     "output_type": "execute_result"
    }
   ],
   "source": [
    "y_train = y_train.reshape(-1,)\n",
    "y_train[:5]"
   ]
  },
  {
   "cell_type": "code",
   "execution_count": 4,
   "id": "96467d4b",
   "metadata": {},
   "outputs": [],
   "source": [
    "classes = [\"airplane\",\"automobile\",\"bird\",\"cat\",\"deer\",\"dog\",\"frog\",\"horse\",\"ship\",\"truck\"]"
   ]
  },
  {
   "cell_type": "code",
   "execution_count": 5,
   "id": "cd5fcd68",
   "metadata": {},
   "outputs": [],
   "source": [
    "def plot_sample(X,y,index):\n",
    "  plt.figure(figsize = (15,2))\n",
    "  plt.imshow(X[index])\n",
    "  plt.xlabel(classes[y[index]])"
   ]
  },
  {
   "cell_type": "code",
   "execution_count": 6,
   "id": "c402a6ee",
   "metadata": {},
   "outputs": [
    {
     "data": {
      "image/png": "[encoded data removed]",
      "text/plain": [
       "<Figure size 1080x144 with 1 Axes>"
      ]
     },
     "metadata": {
      "needs_background": "light"
     },
     "output_type": "display_data"
    }
   ],
   "source": [
    "plot_sample(X_train, y_train,2)"
   ]
  },
  {
   "cell_type": "code",
   "execution_count": 7,
   "id": "dbd532a5",
   "metadata": {},
   "outputs": [],
   "source": [
    "X_train = X_train / 255\n",
    "X_test = X_test /255"
   ]
  },
  {
   "cell_type": "code",
   "execution_count": 8,
   "id": "7572c4ca",
   "metadata": {},
   "outputs": [
    {
     "name": "stderr",
     "output_type": "stream",
     "text": [
      "2023-05-22 01:17:48.219936: I tensorflow/compiler/xla/stream_executor/cuda/cuda_gpu_executor.cc:982] could not open file to read NUMA node: /sys/bus/pci/devices/0000:01:00.0/numa_node\n",
      "Your kernel may have been built without NUMA support.\n",
      "2023-05-22 01:17:48.220249: W tensorflow/core/common_runtime/gpu/gpu_device.cc:1956] Cannot dlopen some GPU libraries. Please make sure the missing libraries mentioned above are installed properly if you would like to use GPU. Follow the guide at https://www.tensorflow.org/install/gpu for how to download and setup the required libraries for your platform.\n",
      "Skipping registering GPU devices...\n"
     ]
    }
   ],
   "source": [
    "# Create the CNN model\n",
    "cnn = models.Sequential([\n",
    "    layers.Conv2D(filters=32, activation='relu',kernel_size=(3,3),input_shape=(32,32,3)),\n",
    "    layers.MaxPooling2D((2,2)),\n",
    "\n",
    "    layers.Conv2D(filters=32, activation='relu',kernel_size=(3,3),input_shape=(32,32,3)),\n",
    "    layers.MaxPooling2D((2,2)),\n",
    "    \n",
    "    layers.Flatten(),\n",
    "    layers.Dense(64, activation='relu'),\n",
    "    layers.Dense(10, activation='softmax')\n",
    "    ])"
   ]
  },
  {
   "cell_type": "code",
   "execution_count": 9,
   "id": "97343c8a",
   "metadata": {},
   "outputs": [],
   "source": [
    "cnn.compile(optimizer='adam',loss = 'sparse_categorical_crossentropy',metrics=['accuracy'])"
   ]
  },
  {
   "cell_type": "code",
   "execution_count": 23,
   "id": "0c9f385c",
   "metadata": {},
   "outputs": [
    {
     "data": {
      "text/plain": [
       "0.0"
      ]
     },
     "execution_count": 23,
     "metadata": {},
     "output_type": "execute_result"
    }
   ],
   "source": [
    "m = tf.keras.metrics.Accuracy()\n",
    "m.update_state(X_train,X_test)\n",
    "m.result().numpy()"
   ]
  },
  {
   "cell_type": "code",
   "execution_count": 11,
   "id": "cca19ddb",
   "metadata": {},
   "outputs": [
    {
     "name": "stdout",
     "output_type": "stream",
     "text": [
      "Epoch 1/20\n",
      "  10/1563 [..............................] - ETA: 19s - loss: 1.0221 - accuracy: 0.6250"
     ]
    },
    {
     "name": "stderr",
     "output_type": "stream",
     "text": [
      "2023-05-22 01:18:26.274377: W tensorflow/tsl/framework/cpu_allocator_impl.cc:83] Allocation of 614400000 exceeds 10% of free system memory.\n"
     ]
    },
    {
     "name": "stdout",
     "output_type": "stream",
     "text": [
      "1563/1563 [==============================] - 18s 11ms/step - loss: 1.0393 - accuracy: 0.6360\n",
      "Epoch 2/20\n",
      "1563/1563 [==============================] - 17s 11ms/step - loss: 0.9611 - accuracy: 0.6619\n",
      "Epoch 3/20\n",
      "1563/1563 [==============================] - 17s 11ms/step - loss: 0.8933 - accuracy: 0.6866\n",
      "Epoch 4/20\n",
      "1563/1563 [==============================] - 17s 11ms/step - loss: 0.8433 - accuracy: 0.7063\n",
      "Epoch 5/20\n",
      "1563/1563 [==============================] - 17s 11ms/step - loss: 0.7904 - accuracy: 0.7239\n",
      "Epoch 6/20\n",
      "1563/1563 [==============================] - 17s 11ms/step - loss: 0.7466 - accuracy: 0.7385\n",
      "Epoch 7/20\n",
      "1563/1563 [==============================] - 16s 10ms/step - loss: 0.7093 - accuracy: 0.7532\n",
      "Epoch 8/20\n",
      "1563/1563 [==============================] - 17s 11ms/step - loss: 0.6765 - accuracy: 0.7640\n",
      "Epoch 9/20\n",
      "1563/1563 [==============================] - 17s 11ms/step - loss: 0.6428 - accuracy: 0.7760\n",
      "Epoch 10/20\n",
      "1563/1563 [==============================] - 16s 10ms/step - loss: 0.6117 - accuracy: 0.7860\n",
      "Epoch 11/20\n",
      "1563/1563 [==============================] - 16s 11ms/step - loss: 0.5927 - accuracy: 0.7920\n",
      "Epoch 12/20\n",
      "1563/1563 [==============================] - 17s 11ms/step - loss: 0.5661 - accuracy: 0.8009\n",
      "Epoch 13/20\n",
      "1563/1563 [==============================] - 17s 11ms/step - loss: 0.5406 - accuracy: 0.8087\n",
      "Epoch 14/20\n",
      "1563/1563 [==============================] - 16s 11ms/step - loss: 0.5179 - accuracy: 0.8164\n",
      "Epoch 15/20\n",
      "1563/1563 [==============================] - 16s 11ms/step - loss: 0.4951 - accuracy: 0.8250\n",
      "Epoch 16/20\n",
      "1563/1563 [==============================] - 17s 11ms/step - loss: 0.4754 - accuracy: 0.8328\n",
      "Epoch 17/20\n",
      "1563/1563 [==============================] - 16s 11ms/step - loss: 0.4577 - accuracy: 0.8375\n",
      "Epoch 18/20\n",
      "1563/1563 [==============================] - 17s 11ms/step - loss: 0.4375 - accuracy: 0.8453\n",
      "Epoch 19/20\n",
      "1563/1563 [==============================] - 17s 11ms/step - loss: 0.4154 - accuracy: 0.8518\n",
      "Epoch 20/20\n",
      "1563/1563 [==============================] - 17s 11ms/step - loss: 0.4030 - accuracy: 0.8563\n"
     ]
    },
    {
     "data": {
      "text/plain": [
       "<keras.callbacks.History at 0x7f6dec342e60>"
      ]
     },
     "execution_count": 11,
     "metadata": {},
     "output_type": "execute_result"
    }
   ],
   "source": [
    "cnn.fit(X_train, y_train, epochs = 20)"
   ]
  },
  {
   "cell_type": "code",
   "execution_count": 12,
   "id": "0601d79d",
   "metadata": {},
   "outputs": [
    {
     "data": {
      "image/png": "[encoded data removed]",
      "text/plain": [
       "<Figure size 1080x144 with 1 Axes>"
      ]
     },
     "metadata": {
      "needs_background": "light"
     },
     "output_type": "display_data"
    }
   ],
   "source": [
    "y_test = y_test.reshape(-1,)\n",
    "plot_sample(X_test, y_test,2)"
   ]
  },
  {
   "cell_type": "code",
   "execution_count": 13,
   "id": "c7c9e9f4",
   "metadata": {},
   "outputs": [
    {
     "name": "stdout",
     "output_type": "stream",
     "text": [
      "313/313 [==============================] - 1s 4ms/step\n"
     ]
    }
   ],
   "source": [
    "y_pred = cnn.predict(X_test)"
   ]
  },
  {
   "cell_type": "code",
   "execution_count": 14,
   "id": "832db5de",
   "metadata": {},
   "outputs": [
    {
     "data": {
      "text/plain": [
       "(10000, 32, 32, 3)"
      ]
     },
     "execution_count": 14,
     "metadata": {},
     "output_type": "execute_result"
    }
   ],
   "source": [
    "X_test.shape"
   ]
  },
  {
   "cell_type": "code",
   "execution_count": 15,
   "id": "c04eabcb",
   "metadata": {},
   "outputs": [
    {
     "name": "stdout",
     "output_type": "stream",
     "text": [
      "[3, 8, 8, 0, 4, 6, 1, 6, 3, 1, 4, 9, 3, 7, 9, 8, 5, 9, 8, 4, 7, 2, 4, 9, 4, 2, 4, 0, 9, 6, 6, 4, 2, 3, 9, 8, 7, 0, 9, 5, 4, 6, 5, 6, 0, 9, 3, 9, 7, 4, 9, 0, 5, 3, 8, 8, 5, 3, 2, 3, 7, 5, 6, 2, 6, 2, 1, 2, 3, 6, 4, 6, 8, 8, 9, 2, 2, 3, 3, 8, 8, 1, 1, 7, 3, 7, 3, 3, 9, 9, 0, 6, 8, 6, 4, 6, 6, 0, 0, 3, 4, 7, 6, 3, 1, 1, 3, 6, 3, 2, 5, 0, 2, 2, 9, 3, 0, 4, 3, 5, 8, 3, 2, 7, 8, 2, 8, 3, 3, 8, 4, 1, 8, 9, 1, 2, 9, 7, 6, 8, 3, 5, 6, 5, 8, 7, 6, 5, 5, 2, 8, 9, 6, 0, 0, 5, 2, 9, 3, 4, 2, 1, 6, 6, 0, 4, 8, 4, 9, 0, 9, 9, 9, 8, 9, 9, 3, 7, 5, 0, 0, 5, 2, 6, 5, 8, 6, 3, 3, 8, 7, 8, 2, 1, 7, 5, 8, 8, 3, 8, 3, 9, 8, 7, 1, 3, 8, 4, 7, 9, 2, 9, 3, 7, 2, 0, 7, 9, 0, 2, 7, 3, 9, 2, 4, 9, 2, 2, 3, 6, 5, 1, 7, 8, 8, 0, 4, 2, 5, 3, 1, 9, 8, 9, 0, 3, 1, 8, 2, 0, 7, 3, 9, 9, 2, 0, 3, 0, 8, 9, 8, 9, 8, 3, 0, 8, 3, 4, 7, 0, 2, 3, 6, 3, 8, 2, 0, 4, 4, 3, 9, 0, 6, 1, 9, 9, 1, 8, 7, 9, 1, 2, 6, 9, 3, 2, 6, 0, 0, 6, 6, 6, 5, 2, 6, 1, 8, 2, 9, 2, 8, 6, 0, 0, 5, 0, 7, 5, 5, 5, 3, 3, 2, 5, 5, 1, 7, 3, 4, 6, 1, 9, 3, 6, 6, 9, 3, 8, 0, 7, 4, 6, 2, 3, 8, 5, 5, 6, 8, 9, 9, 9, 8, 2, 3, 7, 5, 2, 8, 0, 9, 3, 8, 8, 9, 4, 1, 3, 2, 1, 2, 7, 9, 3, 2, 7, 8, 7, 8, 6, 6, 9, 0, 9, 5, 8, 7, 2, 3, 5, 1, 0, 6, 6, 9, 6, 4, 3, 0, 9, 7, 8, 7, 8, 8, 6, 0, 1, 8, 3, 7, 8, 7, 6, 0, 9, 3, 7, 3, 7, 4, 3, 8, 7, 2, 9, 3, 3, 9, 6, 2, 5, 3, 2, 9, 7, 2, 6, 5, 9, 1, 4, 9, 9, 8, 7, 3, 0, 2, 0, 2, 9, 7, 3, 9, 3, 2, 4, 4, 2, 3, 6, 6, 7, 3, 4, 5, 6, 7, 8, 3, 7, 8, 8, 5, 7, 6, 0, 5, 9, 9, 6, 8, 5, 5, 9, 9, 9, 2, 0, 1, 4, 8, 1, 8, 8, 0, 2, 2, 0, 4, 6, 3, 4, 9, 4, 7, 9, 9, 4, 5, 6, 6, 1, 5, 3, 8, 9, 3, 8, 7, 7, 0, 5, 0, 3, 3, 0, 0, 6, 9, 5, 1, 5, 6, 6, 6, 2, 0, 0, 1, 4, 6, 7, 5, 9, 1, 2, 3, 5, 5, 2, 8, 4, 9, 4, 3, 3, 3, 2, 0, 7, 6, 2, 2, 5, 9, 3, 9, 4, 6, 7, 8, 3, 6, 6, 8, 8, 7, 5, 4, 4, 8, 4, 0, 9, 3, 4, 8, 9, 6, 9, 2, 6, 1, 4, 7, 5, 3, 3, 0, 5, 0, 2, 1, 6, 8, 5, 3, 9, 6, 9, 8, 8, 5, 3, 6, 3, 4, 1, 7, 4, 1, 2, 7, 9, 9, 4, 7, 8, 8, 5, 6, 6, 4, 6, 8, 3, 0, 5, 3, 6, 3, 7, 9, 1, 3, 4, 4, 2, 3, 9, 5, 4, 9, 4, 1, 1, 4, 1, 9, 7, 7, 2, 3, 0, 9, 0, 1, 2, 6, 3, 3, 3, 2, 9, 4, 9, 3, 3, 8, 6, 4, 0, 9, 4, 9, 2, 2, 6, 3, 2, 3, 7, 8, 3, 8, 2, 7, 5, 7, 2, 6, 8, 7, 4, 8, 3, 8, 8, 6, 0, 8, 7, 4, 9, 3, 9, 4, 9, 7, 8, 8, 1, 8, 9, 1, 3, 6, 5, 4, 2, 7, 9, 8, 2, 1, 2, 1, 5, 7, 7, 9, 7, 2, 7, 4, 6, 2, 3, 9, 0, 9, 1, 2, 2, 6, 8, 2, 1, 7, 5, 6, 0, 9, 2, 2, 9, 5, 4, 9, 1, 6, 4, 0, 2, 5, 6, 0, 4, 9, 1, 7, 6, 7, 0, 3, 9, 6, 8, 4, 0, 7, 4, 7, 7, 0, 4, 2, 2, 7, 1, 2, 7, 7, 4, 8, 4, 7, 7, 2, 3, 7, 2, 0, 8, 9, 6, 1, 2, 6, 2, 0, 8, 7, 6, 0, 6, 5, 3, 0, 6, 2, 5, 5, 4, 0, 2, 7, 2, 7, 0, 7, 2, 8, 3, 4, 0, 6, 4, 2, 9, 8, 1, 0, 0, 7, 8, 7, 8, 4, 6, 2, 3, 0, 1, 3, 7, 0, 1, 2, 1, 3, 2, 3, 8, 4, 5, 0, 7, 8, 4, 2, 0, 9, 0, 1, 1, 9, 6, 4, 6, 3, 5, 1, 1, 3, 7, 5, 5, 2, 6, 6, 5, 0, 7, 8, 6, 8, 8, 3, 3, 3, 5, 0, 1, 4, 8, 8, 0, 6, 9, 9, 9, 0, 3, 8, 6, 0, 0, 4, 2, 4, 5, 7, 2, 2, 5, 9, 8, 9, 3, 7, 4, 0, 3, 0, 1, 3, 8, 3, 9, 4, 0, 4, 7, 0, 5, 7, 8, 9, 6, 1, 6, 6, 6, 6, 0, 1, 9, 9, 4, 2, 1, 7, 0, 3, 8, 1, 9, 2, 1, 5, 4, 4, 8, 3, 1, 2, 0, 1, 2, 8, 3, 6, 5, 8, 1, 3, 8, 5, 0, 4, 4, 8, 1, 1, 2, 9, 6, 0, 8, 2, 1, 3, 6, 9, 6, 0, 2, 1, 8, 0, 0, 3, 5, 1, 0, 6, 6, 3, 3, 3, 3, 4, 4, 0, 7, 2, 2, 2, 5, 2, 2, 8, 5, 2, 1, 1, 4, 7, 1, 8, 3, 1, 2, 7, 9, 2, 8, 9, 1, 6, 4, 2, 2, 9, 0, 1, 6, 3, 6, 8, 7, 3, 8, 0, 0, 0, 6, 6, 6, 9, 3, 5, 4, 4, 6, 5, 6, 8, 8, 3, 2, 6, 2, 7, 5, 1, 2, 3, 8, 8, 8, 9, 3, 9, 7, 2, 0, 2, 8, 2, 8, 9, 1, 5, 5, 7, 7, 2, 3, 8, 3, 2, 6, 0, 8, 3, 2, 7, 9, 3, 4, 8, 6, 9, 9, 9, 8, 6, 1, 8, 6, 1, 5, 2, 6, 2, 9, 7, 2, 0, 8, 6, 9, 1, 7, 1, 8, 8, 0, 7, 7, 8, 0, 3, 3, 3, 0, 7, 9, 7, 3, 1, 9, 1, 9, 2, 5, 3, 3, 1, 0, 3, 1, 4, 1, 0, 0, 1, 1, 6, 2, 4, 6, 2, 0, 7, 0, 8, 7, 2, 8, 6, 0, 1, 0, 8, 7, 0, 6, 1, 8, 5, 7, 9, 4, 8, 3, 6, 9, 1, 0, 7, 2, 6, 3, 9, 1, 5, 9, 1, 0, 9, 5, 2, 0, 1, 5, 6, 0, 9, 8, 3, 2, 7, 2, 4, 4, 7, 3, 5, 8, 2, 4, 9, 2, 6, 8, 1, 9, 8, 8, 8, 1, 0, 4, 2, 5, 1, 8, 5, 6, 3, 3, 6, 2, 2, 8, 3, 8, 9, 3, 8, 1, 8, 9, 1, 6, 5, 9, 6, 4, 8, 0, 5, 0, 9, 9, 4, 1, 6, 2, 8, 9, 8, 0, 4, 6, 0, 8, 6, 1, 9, 4, 5, 9, 3, 0, 7, 0, 9, 1, 3, 4, 4, 6, 3, 7, 5, 8, 1, 2, 2, 1, 4, 3, 6, 5, 1, 4, 7, 8, 9, 4, 9, 8, 2, 8, 3, 7, 2, 9, 1, 3, 3, 9, 8, 9, 7, 9, 5, 1, 4, 0, 8, 2, 3, 8, 9, 1, 9, 5, 4, 4, 9, 3, 1, 7, 4, 6, 0, 8, 9, 5, 3, 9, 3, 5, 6, 5, 2, 4, 5, 5, 1, 0, 7, 0, 3, 4, 7, 2, 8, 1, 9, 8, 1, 0, 1, 4, 1, 1, 1, 7, 3, 9, 6, 8, 7, 6, 0, 4, 9, 2, 7, 9, 7, 2, 8, 4, 9, 4, 0, 6, 6, 1, 5, 9, 0, 2, 5, 4, 0, 3, 0, 8, 2, 6, 2, 6, 6, 6, 3, 6, 5, 1, 9, 8, 6, 0, 4, 7, 1, 9, 7, 1, 3, 4, 5, 8, 2, 7, 9, 9, 7, 7, 7, 3, 8, 2, 8, 6, 2, 9, 7, 1, 8, 6, 8, 9, 9, 1, 7, 0, 2, 8, 3, 8, 1, 3, 2, 2, 1, 2, 7, 9, 0, 1, 8, 1, 8, 3, 0, 2, 4, 1, 3, 6, 7, 4, 4, 4, 3, 9, 4, 3, 2, 5, 6, 7, 8, 7, 4, 2, 7, 4, 9, 2, 8, 4, 5, 3, 4, 1, 4, 2, 3, 9, 6, 4, 3, 4, 4, 0, 8, 8, 4, 5, 7, 5, 6, 9, 1, 6, 7, 3, 0, 1, 7, 5, 3, 0, 9, 2, 4, 5, 6, 0, 7, 5, 9, 9, 7, 5, 5, 2, 3, 6, 0, 1, 4, 3, 5, 9, 2, 3, 5, 5, 8, 9, 7, 9, 1, 2, 2, 9, 4, 2, 4, 3, 6, 8, 1, 3, 7, 0, 3, 4, 8, 1, 5, 4, 4, 6, 9, 9, 5, 9, 9, 1, 8, 8, 6, 7, 7, 2, 3, 9, 3, 4, 5, 9, 2, 4, 0, 7, 8, 5, 5, 0, 0, 9, 9, 8, 2, 5, 0, 8, 4, 6, 3, 6, 0, 6, 6, 6, 9, 6, 6, 8, 6, 2, 4, 5, 8, 1, 2, 7, 6, 3, 7, 0, 8, 9, 0, 0, 6, 9, 2, 8, 9, 8, 0, 9, 2, 9, 5, 7, 3, 7, 9, 5, 9, 0, 1, 9, 5, 2, 2, 1, 0, 9, 0, 3, 1, 7, 8, 0, 4, 4, 6, 3, 2, 0, 0, 9, 0, 8, 0, 3, 9, 3, 9, 0, 6, 3, 5, 9, 1, 5, 8, 1, 0, 5, 4, 9, 2, 6, 8, 1, 5, 6, 7, 7, 4, 6, 2, 5, 0, 1, 6, 5, 7, 3, 6, 2, 2, 9, 7, 4, 1, 5, 5, 3, 0, 4, 8, 5, 7, 6, 5, 8, 1, 0, 9, 3, 5, 0, 7, 7, 9, 5, 3, 6, 8, 1, 6, 4, 4, 4, 2, 3, 3, 8, 1, 5, 9, 8, 1, 1, 7, 5, 9, 9, 3, 6, 5, 0, 8, 2, 3, 3, 9, 2, 8, 4, 2, 3, 5, 9, 6, 8, 9, 2, 4, 6, 8, 7, 9, 9, 4, 8, 9, 7, 2, 5, 3, 7, 3, 2, 9, 9, 3, 5, 8, 5, 3, 2, 8, 3, 4, 9, 7, 7, 8, 4, 4, 8, 2, 8, 5, 6, 8, 0, 2, 3, 1, 0, 1, 9, 1, 3, 5, 5, 3, 3, 2, 9, 6, 8, 6, 9, 6, 0, 9, 8, 5, 7, 8, 3, 2, 9, 1, 2, 3, 1, 5, 8, 5, 2, 0, 9, 9, 9, 5, 8, 2, 4, 2, 0, 5, 1, 3, 1, 0, 9, 4, 4, 1, 6, 0, 7, 2, 3, 7, 9, 0, 2, 5, 2, 2, 8, 4, 7, 8, 3, 5, 0, 5, 7, 4, 0, 4, 3, 7, 1, 6, 0, 5, 7, 6, 0, 3, 0, 7, 7, 8, 9, 1, 4, 2, 4, 6, 6, 5, 3, 6, 3, 9, 3, 6, 7, 7, 6, 2, 9, 5, 4, 7, 1, 6, 3, 8, 2, 3, 0, 8, 5, 6, 5, 5, 5, 7, 5, 7, 0, 9, 1, 2, 2, 5, 9, 8, 4, 6, 9, 2, 9, 9, 0, 5, 5, 6, 4, 3, 3, 7, 6, 7, 1, 6, 4, 2, 6, 3, 5, 5, 1, 0, 0, 1, 8, 3, 1, 3, 5, 8, 3, 8, 3, 8, 6, 3, 5, 5, 5, 8, 8, 3, 4, 7, 1, 8, 2, 4, 4, 3, 4, 2, 9, 6, 2, 2, 7, 3, 0, 6, 0, 9, 3, 2, 6, 7, 0, 8, 0, 7, 7, 2, 7, 1, 6, 5, 4, 9, 2, 0, 1, 2, 6, 8, 1, 6, 6, 3, 3, 9, 0, 2, 9, 1, 0, 2, 5, 9, 7, 8, 6, 8, 0, 0, 2, 0, 0, 1, 5, 6, 9, 0, 5, 2, 3, 4, 8, 7, 2, 6, 8, 9, 5, 9, 9, 2, 4, 2, 2, 9, 6, 9, 8, 7, 8, 5, 8, 8, 3, 9, 9, 0, 3, 9, 7, 1, 0, 2, 7, 5, 8, 2, 3, 0, 3, 9, 3, 1, 9, 9, 1, 4, 3, 4, 4, 9, 0, 9, 3, 9, 2, 1, 3, 3, 0, 8, 6, 8, 6, 8, 2, 0, 5, 9, 6, 9, 5, 1, 6, 4, 2, 8, 7, 2, 4, 4, 0, 7, 8, 4, 2, 1, 2, 6, 8, 1, 7, 6, 2, 7, 4, 3, 3, 3, 5, 7, 2, 3, 6, 9, 7, 9, 0, 2, 2, 9, 8, 0, 5, 0, 0, 3, 3, 3, 3, 8, 8, 4, 0, 1, 5, 6, 3, 7, 6, 0, 8, 8, 2, 3, 3, 4, 8, 7, 5, 1, 6, 0, 3, 9, 9, 4, 5, 9, 4, 8, 6, 5, 2, 4, 2, 9, 5, 5, 1, 1, 8, 9, 7, 0, 3, 5, 2, 0, 2, 6, 9, 3, 9, 1, 6, 6, 4, 2, 6, 5, 0, 6, 5, 2, 7, 2, 3, 0, 8, 0, 4, 7, 9, 7, 4, 0, 4, 2, 6, 1, 3, 9, 7, 6, 2, 7, 2, 4, 2, 0, 1, 1, 8, 4, 3, 1, 9, 4, 4, 8, 9, 8, 1, 3, 7, 7, 2, 4, 4, 6, 7, 9, 4, 2, 1, 0, 8, 3, 0, 8, 8, 0, 6, 1, 8, 8, 5, 9, 2, 5, 7, 3, 9, 0, 6, 1, 2, 2, 1, 3, 7, 3, 5, 8, 8, 0, 3, 9, 4, 2, 6, 4, 9, 2, 4, 3, 0, 6, 6, 5, 6, 6, 7, 8, 7, 1, 8, 5, 6, 8, 0, 0, 4, 6, 8, 7, 8, 9, 9, 0, 6, 6, 8, 8, 1, 0, 6, 6, 2, 5, 6, 9, 4, 2, 3, 1, 8, 6, 4, 1, 6, 1, 6, 8, 5, 9, 0, 1, 0, 6, 9, 2, 9, 4, 9, 7, 8, 6, 8, 6, 6, 8, 7, 5, 7, 8, 7, 9, 7, 1, 6, 2, 5, 6, 2, 1, 9, 8, 9, 5, 8, 3, 0, 3, 9, 6, 4, 8, 9, 8, 7, 0, 0, 4, 3, 4, 9, 2, 2, 9, 2, 2, 9, 7, 4, 1, 9, 1, 3, 3, 0, 2, 8, 9, 5, 6, 2, 9, 3, 9, 6, 5, 1, 5, 9, 4, 1, 8, 5, 2, 4, 8, 4, 0, 6, 6, 2, 9, 8, 4, 7, 6, 5, 6, 7, 7, 6, 4, 2, 2, 3, 2, 3, 9, 0, 4, 1, 2, 7, 8, 7, 2, 4, 3, 1, 5, 4, 2, 7, 6, 3, 2, 0, 4, 2, 9, 8, 5, 8, 0, 4, 9, 3, 6, 6, 8, 1, 6, 2, 8, 7, 3, 1, 2, 7, 2, 4, 5, 6, 0, 7, 1, 3, 5, 3, 1, 8, 2, 4, 8, 2, 7, 7, 0, 4, 6, 4, 3, 3, 1, 4, 1, 6, 4, 6, 7, 2, 7, 5, 8, 1, 3, 1, 5, 6, 9, 0, 7, 4, 5, 0, 9, 5, 7, 2, 5, 3, 6, 7, 4, 1, 6, 1, 2, 6, 9, 9, 0, 0, 0, 4, 3, 7, 0, 0, 0, 0, 3, 5, 3, 4, 7, 8, 5, 3, 1, 2, 8, 9, 1, 6, 2, 8, 3, 4, 9, 9, 6, 1, 9, 8, 3, 6, 4, 6, 7, 5, 8, 8, 0, 0, 2, 0, 2, 3, 3, 8, 2, 2, 0, 8, 5, 9, 4, 4, 6, 5, 7, 7, 7, 2, 9, 9, 4, 2, 1, 6, 3, 9, 9, 8, 9, 8, 1, 2, 5, 2, 3, 7, 9, 4, 3, 9, 9, 2, 2, 7, 2, 4, 1, 9, 4, 2, 2, 2, 5, 7, 6, 2, 5, 3, 7, 5, 4, 3, 7, 7, 0, 0, 1, 2, 7, 3, 2, 9, 8, 7, 0, 9, 9, 3, 7, 5, 3, 8, 4, 5, 6, 5, 8, 4, 9, 9, 3, 4, 5, 2, 0, 1, 9, 3, 7, 9, 5, 1, 6, 0, 5, 3, 7, 6, 4, 5, 2, 2, 6, 9, 3, 0, 4, 8, 8, 8, 1, 2, 2, 2, 7, 7, 2, 5, 6, 8, 8, 2, 5, 2, 4, 9, 4, 2, 2, 0, 4, 1, 4, 5, 6, 6, 5, 6, 9, 7, 7, 4, 8, 3, 3, 9, 8, 1, 9, 0, 3, 8, 4, 7, 7, 2, 6, 5, 6, 9, 6, 5, 5, 3, 5, 8, 1, 5, 8, 3, 8, 9, 7, 2, 9, 2, 7, 4, 9, 9, 7, 0, 2, 1, 6, 0, 6, 5, 1, 4, 2, 8, 3, 8, 3, 5, 1, 4, 9, 8, 1, 1, 5, 9, 9, 4, 3, 8, 5, 3, 2, 2, 3, 8, 5, 1, 9, 7, 9, 1, 5, 4, 1, 0, 3, 8, 9, 5, 0, 3, 9, 0, 8, 4, 8, 3, 0, 7, 0, 7, 0, 5, 3, 4, 8, 0, 9, 4, 9, 7, 2, 0, 8, 4, 4, 5, 2, 8, 8, 0, 3, 6, 4, 3, 4, 0, 8, 4, 8, 5, 5, 6, 5, 1, 7, 6, 4, 2, 2, 6, 8, 7, 6, 2, 1, 5, 9, 6, 4, 2, 5, 2, 1, 8, 7, 2, 0, 2, 7, 1, 1, 1, 6, 7, 1, 1, 2, 5, 9, 8, 4, 1, 7, 4, 8, 9, 7, 5, 8, 3, 2, 5, 0, 3, 2, 3, 0, 9, 4, 6, 1, 3, 7, 7, 9, 2, 1, 3, 1, 4, 0, 3, 0, 7, 8, 5, 1, 5, 6, 1, 8, 8, 1, 9, 7, 3, 3, 2, 9, 0, 6, 8, 4, 1, 5, 7, 0, 7, 7, 9, 4, 9, 0, 7, 4, 6, 7, 9, 8, 3, 8, 8, 5, 8, 0, 6, 8, 2, 5, 0, 6, 6, 2, 9, 1, 8, 6, 3, 9, 0, 9, 3, 3, 7, 5, 9, 7, 5, 4, 7, 8, 9, 8, 9, 5, 3, 1, 9, 2, 2, 0, 9, 9, 8, 1, 1, 0, 8, 9, 9, 0, 2, 2, 9, 1, 9, 2, 1, 9, 2, 9, 9, 9, 1, 9, 9, 9, 1, 7, 2, 5, 6, 3, 9, 8, 9, 0, 6, 2, 7, 4, 8, 3, 0, 4, 4, 3, 3, 5, 6, 6, 6, 7, 6, 3, 4, 5, 8, 8, 7, 8, 3, 9, 3, 6, 9, 6, 1, 7, 7, 7, 0, 9, 5, 7, 7, 6, 9, 2, 2, 2, 8, 5, 2, 7, 8, 3, 5, 5, 1, 6, 1, 1, 7, 7, 8, 7, 7, 8, 5, 0, 3, 6, 5, 4, 9, 0, 5, 4, 7, 2, 3, 7, 0, 3, 1, 0, 8, 7, 3, 5, 7, 8, 5, 7, 8, 9, 7, 4, 7, 0, 8, 3, 2, 9, 6, 4, 8, 6, 2, 9, 8, 5, 5, 4, 1, 0, 9, 4, 3, 3, 4, 4, 2, 0, 2, 2, 9, 4, 1, 7, 0, 6, 7, 2, 2, 9, 3, 7, 7, 9, 2, 9, 0, 2, 3, 6, 8, 4, 5, 2, 3, 8, 8, 4, 2, 2, 8, 9, 7, 0, 3, 6, 1, 2, 5, 9, 7, 9, 9, 1, 0, 8, 1, 2, 3, 2, 0, 3, 2, 6, 5, 4, 4, 1, 2, 2, 9, 2, 7, 9, 3, 1, 5, 1, 0, 6, 4, 3, 3, 7, 5, 8, 5, 4, 8, 5, 8, 2, 3, 3, 1, 5, 3, 1, 5, 1, 9, 2, 9, 2, 0, 8, 2, 4, 8, 5, 7, 6, 1, 2, 9, 4, 3, 0, 1, 5, 3, 2, 7, 1, 7, 3, 0, 5, 8, 5, 0, 0, 6, 2, 2, 0, 4, 5, 7, 5, 6, 2, 7, 9, 6, 2, 0, 3, 2, 0, 0, 3, 4, 6, 1, 1, 5, 5, 2, 2, 6, 3, 2, 3, 0, 1, 3, 2, 5, 9, 6, 5, 0, 2, 9, 7, 1, 9, 2, 2, 2, 8, 6, 4, 3, 2, 7, 7, 0, 4, 1, 6, 5, 1, 3, 0, 3, 9, 0, 3, 2, 9, 1, 0, 0, 9, 4, 8, 4, 9, 4, 2, 4, 3, 0, 4, 9, 4, 3, 3, 8, 9, 8, 5, 8, 1, 8, 2, 6, 4, 0, 4, 1, 9, 6, 6, 8, 5, 5, 3, 5, 0, 8, 2, 5, 6, 2, 9, 6, 9, 4, 5, 9, 0, 1, 4, 0, 8, 1, 1, 6, 6, 6, 5, 2, 1, 5, 8, 6, 9, 1, 7, 6, 0, 6, 3, 5, 3, 2, 9, 2, 5, 9, 9, 1, 6, 6, 6, 1, 3, 8, 8, 6, 6, 7, 7, 6, 7, 2, 3, 2, 4, 6, 2, 7, 2, 5, 9, 3, 2, 2, 3, 2, 9, 9, 3, 9, 1, 5, 5, 5, 4, 3, 2, 1, 7, 4, 5, 5, 4, 8, 9, 3, 3, 0, 8, 9, 1, 3, 3, 4, 4, 6, 9, 7, 2, 8, 1, 8, 9, 9, 3, 1, 7, 3, 0, 0, 2, 9, 5, 9, 2, 7, 0, 6, 0, 1, 6, 1, 6, 7, 5, 5, 2, 3, 9, 4, 0, 8, 3, 4, 9, 4, 1, 0, 0, 4, 3, 8, 9, 2, 8, 1, 3, 7, 9, 1, 4, 8, 2, 8, 2, 4, 9, 9, 3, 1, 8, 6, 2, 3, 4, 6, 6, 5, 2, 4, 4, 2, 3, 2, 5, 6, 8, 5, 2, 0, 7, 1, 6, 2, 3, 9, 3, 8, 1, 6, 9, 3, 2, 5, 3, 2, 9, 7, 0, 7, 9, 3, 7, 1, 6, 9, 7, 8, 9, 7, 9, 3, 4, 3, 0, 3, 6, 4, 7, 0, 8, 8, 1, 8, 7, 6, 1, 9, 9, 0, 1, 2, 3, 6, 9, 7, 7, 2, 4, 2, 8, 2, 5, 2, 5, 4, 7, 9, 4, 5, 0, 6, 1, 7, 5, 6, 5, 7, 9, 2, 7, 8, 5, 9, 0, 8, 3, 4, 5, 7, 9, 8, 1, 4, 4, 0, 9, 5, 0, 3, 3, 0, 2, 0, 1, 4, 9, 8, 5, 5, 2, 9, 8, 5, 7, 9, 1, 5, 4, 9, 8, 4, 5, 0, 9, 0, 8, 2, 9, 4, 2, 9, 8, 1, 9, 8, 8, 3, 7, 6, 4, 2, 6, 7, 0, 5, 2, 8, 8, 8, 4, 9, 6, 3, 7, 4, 3, 7, 6, 7, 9, 3, 5, 6, 8, 4, 6, 6, 3, 1, 6, 9, 7, 8, 7, 0, 1, 2, 6, 3, 9, 0, 1, 7, 3, 2, 2, 3, 4, 9, 8, 4, 4, 4, 9, 2, 6, 7, 7, 1, 9, 3, 3, 1, 9, 0, 3, 5, 1, 5, 6, 6, 2, 4, 6, 8, 8, 9, 3, 6, 0, 0, 7, 3, 8, 4, 1, 4, 8, 1, 4, 7, 5, 0, 3, 8, 9, 5, 2, 8, 4, 1, 8, 2, 4, 4, 8, 2, 9, 0, 7, 9, 8, 7, 1, 6, 2, 9, 0, 3, 9, 0, 6, 7, 2, 1, 1, 2, 4, 2, 0, 6, 8, 9, 5, 2, 2, 9, 7, 2, 7, 0, 0, 5, 8, 6, 8, 2, 7, 8, 4, 1, 8, 1, 2, 5, 9, 4, 8, 9, 6, 3, 8, 1, 9, 4, 0, 3, 1, 2, 3, 6, 2, 2, 0, 0, 9, 7, 0, 7, 2, 3, 2, 7, 7, 7, 2, 4, 3, 5, 5, 4, 9, 2, 0, 7, 7, 1, 6, 5, 8, 4, 7, 4, 6, 1, 8, 5, 9, 6, 5, 2, 2, 2, 4, 5, 5, 8, 1, 0, 6, 8, 7, 4, 8, 5, 7, 8, 4, 9, 7, 3, 3, 8, 8, 6, 9, 3, 7, 4, 0, 8, 0, 7, 8, 5, 2, 5, 2, 4, 5, 0, 4, 8, 2, 4, 0, 6, 4, 3, 6, 0, 9, 2, 2, 3, 1, 1, 6, 1, 4, 2, 1, 5, 2, 5, 4, 0, 3, 8, 8, 5, 1, 8, 2, 2, 3, 9, 6, 4, 1, 0, 7, 3, 3, 5, 2, 4, 5, 6, 0, 6, 1, 8, 8, 0, 9, 3, 1, 0, 5, 4, 2, 8, 3, 6, 7, 2, 0, 0, 5, 7, 4, 7, 7, 0, 6, 8, 2, 9, 0, 9, 0, 3, 8, 3, 0, 8, 4, 1, 0, 4, 4, 4, 9, 1, 2, 4, 2, 4, 1, 4, 7, 1, 0, 3, 9, 0, 0, 2, 8, 2, 5, 5, 0, 3, 9, 8, 2, 2, 5, 9, 2, 9, 1, 1, 2, 4, 7, 5, 8, 6, 4, 1, 3, 7, 8, 4, 1, 1, 9, 9, 8, 7, 8, 6, 8, 5, 8, 9, 4, 6, 2, 6, 1, 7, 7, 0, 0, 1, 7, 5, 1, 3, 9, 3, 1, 6, 0, 2, 5, 6, 9, 6, 2, 7, 1, 7, 2, 6, 1, 9, 2, 0, 1, 9, 9, 8, 8, 4, 5, 3, 3, 0, 3, 2, 0, 4, 4, 7, 3, 3, 1, 2, 8, 8, 1, 2, 9, 3, 7, 5, 9, 2, 7, 1, 0, 6, 9, 3, 7, 7, 3, 9, 9, 9, 9, 7, 0, 1, 5, 5, 4, 2, 3, 8, 8, 8, 4, 8, 7, 6, 9, 3, 0, 4, 5, 4, 6, 8, 4, 9, 9, 9, 2, 0, 2, 2, 8, 1, 1, 0, 0, 4, 7, 4, 1, 1, 9, 7, 7, 7, 5, 8, 2, 0, 2, 8, 5, 2, 2, 9, 5, 7, 9, 8, 5, 4, 3, 1, 4, 8, 4, 6, 5, 3, 0, 8, 7, 6, 7, 6, 3, 0, 6, 9, 9, 0, 2, 2, 3, 3, 1, 1, 0, 4, 8, 2, 0, 1, 7, 2, 2, 3, 4, 1, 7, 9, 3, 7, 0, 4, 8, 1, 9, 8, 4, 9, 0, 2, 2, 0, 6, 8, 7, 3, 6, 8, 9, 0, 3, 3, 3, 6, 1, 3, 9, 5, 9, 2, 4, 4, 9, 1, 3, 7, 1, 4, 9, 9, 6, 2, 4, 7, 8, 2, 4, 7, 0, 2, 8, 4, 8, 7, 8, 8, 8, 2, 3, 5, 7, 4, 7, 4, 1, 5, 9, 7, 0, 6, 8, 3, 9, 0, 9, 8, 9, 6, 7, 9, 2, 4, 4, 0, 3, 3, 7, 4, 3, 1, 1, 8, 2, 2, 9, 7, 7, 8, 9, 2, 4, 1, 7, 4, 2, 5, 4, 1, 1, 3, 5, 3, 4, 9, 8, 0, 0, 3, 1, 3, 5, 7, 4, 7, 0, 6, 8, 9, 5, 4, 4, 6, 2, 6, 4, 6, 4, 6, 6, 5, 8, 7, 4, 8, 2, 5, 9, 3, 2, 0, 7, 5, 0, 9, 4, 9, 1, 8, 4, 2, 1, 6, 7, 2, 9, 1, 4, 8, 3, 1, 7, 1, 4, 4, 7, 5, 6, 9, 7, 8, 2, 3, 5, 4, 5, 4, 5, 7, 4, 5, 3, 1, 2, 7, 8, 4, 6, 2, 2, 5, 2, 2, 0, 7, 2, 1, 6, 8, 6, 8, 3, 2, 2, 3, 9, 7, 1, 4, 5, 7, 6, 1, 7, 3, 0, 8, 6, 2, 8, 6, 6, 0, 3, 7, 7, 4, 8, 4, 9, 9, 3, 4, 1, 4, 8, 3, 7, 1, 2, 6, 8, 4, 5, 8, 3, 5, 4, 3, 5, 0, 6, 4, 9, 9, 2, 7, 3, 0, 3, 9, 4, 1, 6, 9, 9, 4, 3, 9, 8, 1, 3, 9, 2, 9, 0, 9, 7, 7, 4, 4, 4, 6, 4, 0, 1, 9, 5, 6, 3, 1, 8, 6, 3, 1, 6, 5, 9, 5, 3, 6, 1, 2, 9, 9, 6, 4, 0, 0, 3, 9, 1, 0, 5, 4, 1, 6, 9, 8, 9, 0, 6, 1, 6, 2, 0, 5, 6, 1, 8, 7, 2, 4, 8, 3, 9, 8, 2, 9, 1, 9, 0, 6, 2, 3, 9, 5, 4, 1, 9, 7, 0, 7, 3, 5, 1, 8, 3, 0, 3, 0, 8, 8, 6, 9, 4, 0, 9, 5, 8, 4, 1, 2, 0, 7, 2, 9, 2, 5, 6, 1, 4, 2, 4, 9, 9, 7, 1, 7, 7, 1, 2, 8, 3, 3, 6, 5, 1, 5, 1, 9, 0, 7, 0, 1, 7, 6, 2, 6, 5, 9, 2, 9, 3, 9, 9, 9, 2, 8, 8, 4, 9, 0, 9, 1, 6, 6, 7, 3, 7, 8, 6, 5, 6, 2, 3, 3, 3, 7, 1, 6, 4, 9, 4, 1, 7, 1, 6, 2, 3, 0, 4, 2, 9, 7, 9, 3, 6, 0, 9, 8, 1, 8, 3, 5, 6, 3, 3, 8, 7, 6, 0, 7, 7, 5, 1, 1, 9, 9, 9, 1, 9, 3, 5, 5, 3, 0, 2, 0, 6, 6, 0, 4, 8, 9, 2, 6, 1, 1, 2, 7, 9, 0, 8, 0, 3, 4, 4, 7, 4, 8, 3, 3, 2, 0, 7, 7, 0, 1, 6, 9, 8, 9, 3, 3, 5, 9, 9, 9, 1, 0, 5, 6, 3, 2, 9, 3, 5, 6, 7, 8, 1, 7, 7, 5, 5, 9, 6, 1, 7, 6, 8, 4, 4, 5, 3, 3, 4, 2, 7, 4, 6, 2, 7, 2, 2, 8, 5, 1, 8, 0, 2, 1, 1, 5, 4, 0, 9, 3, 0, 0, 0, 3, 0, 5, 0, 8, 4, 6, 4, 9, 2, 0, 5, 7, 9, 5, 9, 7, 3, 1, 5, 3, 9, 0, 9, 2, 1, 4, 6, 3, 5, 9, 5, 0, 4, 1, 4, 9, 3, 2, 2, 8, 0, 6, 5, 0, 8, 1, 7, 5, 6, 9, 3, 2, 7, 9, 3, 4, 8, 0, 9, 8, 9, 8, 7, 7, 9, 2, 3, 5, 4, 7, 8, 7, 2, 9, 1, 9, 8, 6, 2, 4, 7, 9, 5, 7, 2, 7, 8, 6, 6, 7, 0, 1, 0, 9, 2, 6, 2, 6, 1, 2, 6, 1, 9, 9, 8, 6, 8, 9, 8, 9, 8, 4, 0, 3, 5, 6, 4, 2, 9, 7, 2, 5, 5, 6, 3, 2, 0, 3, 3, 5, 0, 2, 0, 2, 7, 2, 9, 2, 9, 0, 6, 6, 3, 2, 3, 3, 9, 1, 1, 5, 7, 9, 5, 5, 9, 0, 0, 3, 9, 6, 9, 4, 2, 3, 3, 6, 5, 1, 9, 3, 3, 8, 9, 9, 4, 7, 5, 4, 5, 3, 1, 3, 6, 1, 5, 6, 0, 7, 5, 0, 0, 0, 1, 2, 3, 5, 0, 4, 3, 9, 7, 6, 8, 2, 0, 4, 9, 6, 0, 1, 4, 1, 7, 7, 9, 8, 7, 3, 4, 7, 9, 0, 8, 8, 6, 0, 0, 7, 4, 8, 6, 2, 4, 6, 3, 5, 1, 3, 3, 9, 2, 2, 9, 0, 0, 0, 8, 6, 2, 7, 6, 0, 6, 7, 4, 4, 1, 9, 7, 0, 8, 2, 2, 3, 3, 7, 9, 7, 0, 5, 2, 7, 3, 9, 9, 3, 0, 1, 5, 0, 7, 9, 3, 4, 9, 7, 3, 1, 7, 1, 9, 8, 7, 4, 0, 4, 4, 2, 9, 7, 6, 1, 3, 5, 1, 7, 4, 6, 2, 2, 2, 4, 0, 1, 1, 3, 9, 7, 5, 1, 4, 8, 7, 2, 9, 6, 9, 3, 6, 7, 7, 1, 8, 0, 3, 2, 6, 7, 5, 2, 0, 8, 3, 5, 8, 4, 9, 3, 0, 8, 2, 0, 9, 6, 5, 4, 1, 9, 0, 2, 1, 0, 8, 8, 2, 3, 9, 2, 4, 7, 4, 4, 7, 7, 9, 1, 2, 6, 6, 3, 4, 4, 1, 7, 8, 6, 6, 6, 1, 6, 3, 9, 3, 8, 7, 6, 7, 1, 9, 2, 6, 4, 6, 0, 7, 1, 9, 3, 2, 6, 7, 7, 6, 3, 9, 1, 3, 6, 0, 2, 0, 9, 1, 8, 3, 5, 3, 3, 5, 3, 7, 7, 2, 5, 9, 3, 1, 6, 1, 5, 1, 0, 6, 2, 3, 2, 1, 7, 7, 9, 9, 8, 3, 3, 9, 7, 3, 0, 2, 5, 9, 7, 6, 3, 1, 6, 8, 6, 6, 8, 2, 4, 6, 6, 4, 7, 5, 2, 9, 6, 2, 3, 0, 1, 3, 6, 5, 9, 3, 6, 0, 3, 8, 7, 5, 8, 8, 8, 3, 2, 6, 3, 6, 3, 7, 4, 5, 7, 9, 0, 6, 6, 7, 2, 2, 5, 5, 7, 3, 3, 9, 3, 9, 3, 7, 2, 3, 6, 4, 9, 6, 3, 1, 6, 7, 9, 7, 7, 1, 7, 7, 3, 3, 2, 3, 9, 3, 6, 3, 0, 0, 0, 8, 0, 3, 2, 4, 5, 3, 7, 9, 6, 9, 8, 9, 2, 6, 7, 4, 5, 1, 3, 7, 0, 9, 3, 8, 3, 8, 5, 8, 3, 6, 5, 0, 8, 5, 9, 7, 8, 1, 5, 2, 9, 1, 6, 5, 3, 9, 4, 5, 7, 4, 7, 4, 5, 5, 2, 7, 5, 8, 8, 8, 5, 4, 5, 7, 4, 0, 5, 4, 6, 2, 2, 4, 2, 9, 7, 1, 8, 6, 0, 6, 1, 7, 1, 4, 6, 8, 5, 9, 2, 6, 4, 2, 0, 3, 6, 5, 6, 7, 1, 6, 0, 8, 3, 7, 2, 5, 7, 5, 7, 7, 1, 7, 4, 7, 3, 4, 0, 4, 2, 7, 0, 7, 3, 2, 6, 2, 5, 2, 6, 2, 8, 6, 3, 9, 0, 8, 1, 5, 5, 2, 6, 7, 8, 9, 6, 3, 3, 5, 0, 9, 9, 2, 2, 2, 1, 6, 6, 2, 5, 7, 0, 3, 3, 6, 4, 9, 3, 3, 5, 4, 4, 8, 9, 2, 6, 0, 0, 7, 9, 8, 7, 7, 3, 8, 2, 9, 3, 5, 7, 6, 8, 7, 3, 7, 9, 7, 9, 6, 2, 4, 9, 0, 5, 9, 8, 2, 8, 0, 7, 5, 1, 0, 1, 2, 9, 6, 1, 9, 1, 0, 6, 2, 2, 5, 7, 6, 4, 8, 3, 7, 4, 7, 2, 5, 8, 3, 5, 9, 6, 7, 8, 5, 4, 2, 2, 9, 5, 5, 2, 8, 2, 1, 4, 5, 6, 7, 6, 0, 5, 5, 8, 5, 3, 6, 1, 2, 5, 2, 2, 5, 0, 7, 2, 0, 1, 2, 4, 9, 3, 4, 7, 9, 2, 7, 6, 7, 4, 4, 1, 6, 9, 4, 8, 0, 3, 9, 4, 4, 4, 3, 1, 3, 2, 7, 0, 8, 9, 7, 6, 9, 4, 8, 1, 3, 3, 9, 0, 7, 1, 4, 5, 7, 1, 3, 6, 6, 7, 9, 3, 9, 4, 1, 4, 8, 2, 7, 1, 7, 3, 4, 6, 7, 7, 2, 4, 5, 2, 3, 6, 6, 1, 9, 0, 5, 9, 4, 2, 2, 9, 8, 5, 0, 6, 9, 0, 9, 7, 8, 0, 7, 3, 9, 8, 2, 6, 6, 9, 9, 7, 9, 9, 0, 5, 1, 1, 0, 6, 9, 9, 5, 6, 3, 6, 9, 7, 9, 4, 5, 4, 9, 3, 9, 8, 8, 3, 7, 8, 2, 8, 2, 0, 7, 4, 9, 9, 2, 0, 7, 5, 7, 6, 0, 3, 8, 6, 2, 6, 9, 0, 2, 6, 5, 6, 6, 5, 0, 5, 2, 4, 3, 3, 0, 0, 8, 3, 4, 2, 9, 3, 0, 3, 2, 8, 7, 2, 6, 5, 7, 8, 2, 0, 1, 8, 2, 4, 8, 4, 3, 0, 4, 8, 1, 9, 4, 9, 4, 3, 5, 2, 6, 8, 3, 8, 9, 4, 5, 3, 9, 6, 5, 0, 2, 3, 1, 0, 0, 7, 1, 3, 1, 4, 6, 4, 9, 0, 3, 3, 3, 9, 2, 5, 6, 7, 8, 9, 9, 6, 1, 0, 2, 9, 4, 2, 9, 2, 8, 2, 9, 8, 5, 1, 0, 1, 5, 9, 3, 6, 8, 1, 3, 2, 0, 4, 8, 3, 7, 2, 8, 3, 2, 4, 0, 9, 9, 8, 5, 9, 7, 3, 9, 9, 4, 7, 1, 6, 6, 7, 9, 0, 9, 4, 7, 1, 2, 2, 9, 3, 7, 6, 1, 9, 3, 5, 2, 2, 1, 1, 5, 6, 9, 2, 7, 8, 0, 1, 1, 5, 9, 5, 9, 0, 1, 2, 4, 0, 6, 9, 1, 2, 3, 3, 9, 5, 2, 3, 2, 3, 7, 1, 3, 9, 8, 7, 5, 8, 7, 4, 5, 2, 5, 8, 9, 7, 2, 0, 0, 7, 5, 6, 5, 7, 7, 6, 2, 8, 2, 7, 3, 3, 1, 9, 8, 6, 2, 9, 8, 4, 8, 5, 4, 0, 2, 5, 4, 9, 2, 7, 4, 6, 9, 2, 0, 5, 8, 2, 8, 2, 6, 4, 7, 1, 3, 7, 6, 6, 2, 1, 9, 9, 5, 4, 3, 1, 8, 1, 4, 3, 0, 0, 8, 3, 6, 9, 1, 9, 6, 3, 0, 8, 8, 5, 5, 6, 1, 1, 0, 7, 0, 4, 0, 4, 4, 6, 5, 3, 6, 9, 6, 5, 7, 2, 7, 7, 0, 8, 7, 2, 7, 7, 4, 4, 0, 1, 6, 2, 5, 3, 3, 2, 4, 9, 7, 3, 5, 2, 8, 8, 5, 3, 8, 0, 8, 2, 0, 0, 2, 0, 7, 0, 7, 7, 7, 6, 3, 9, 4, 0, 5, 7, 8, 3, 7, 6, 3, 9, 1, 6, 9, 5, 8, 9, 3, 8, 3, 1, 2, 2, 7, 5, 3, 7, 7, 3, 7, 9, 6, 2, 0, 8, 4, 2, 5, 1, 0, 7, 8, 4, 7, 1, 9, 2, 8, 9, 1, 8, 9, 2, 8, 1, 7, 1, 0, 9, 7, 6, 3, 5, 0, 8, 1, 2, 3, 1, 1, 1, 8, 8, 8, 9, 8, 0, 4, 7, 3, 5, 6, 6, 3, 1, 2, 7, 7, 8, 0, 1, 5, 8, 4, 6, 2, 2, 2, 6, 3, 3, 2, 8, 6, 6, 8, 3, 8, 9, 1, 6, 1, 9, 7, 2, 0, 4, 5, 4, 0, 8, 7, 6, 8, 9, 5, 6, 2, 8, 0, 2, 9, 3, 2, 7, 4, 2, 5, 7, 6, 2, 6, 5, 7, 4, 3, 3, 0, 9, 9, 7, 2, 5, 8, 2, 3, 7, 6, 2, 6, 4, 9, 2, 8, 5, 8, 5, 7, 2, 3, 5, 5, 3, 7, 7, 1, 5, 6, 7, 8, 8, 9, 2, 0, 2, 2, 6, 0, 8, 1, 4, 1, 3, 5, 1, 8, 9, 6, 4, 4, 1, 3, 6, 5, 9, 1, 6, 2, 9, 9, 7, 4, 7, 3, 6, 3, 1, 6, 9, 7, 9, 4, 0, 3, 1, 6, 3, 8, 2, 7, 3, 5, 2, 9, 2, 3, 3, 4, 2, 7, 0, 8, 9, 2, 3, 7, 4, 5, 5, 8, 8, 3, 8, 5, 7, 2, 4, 0, 9, 7, 0, 4, 8, 4, 2, 2, 2, 0, 9, 7, 3, 7, 0, 4, 3, 2, 7, 1, 9, 3, 8, 9, 1, 0, 6, 5, 5, 0, 9, 0, 6, 2, 2, 4, 9, 5, 7, 6, 1, 0, 4, 6, 0, 4, 4, 2, 7, 6, 2, 3, 5, 9, 2, 5, 2, 0, 5, 5, 0, 3, 9, 4, 5, 0, 1, 9, 3, 0, 8, 2, 8, 6, 1, 3, 4, 4, 5, 3, 2, 2, 1, 8, 4, 9, 4, 3, 2, 2, 3, 5, 5, 0, 2, 8, 2, 8, 0, 8, 2, 2, 7, 3, 7, 9, 8, 7, 6, 1, 3, 8, 6, 7, 5, 8, 9, 4, 2, 0, 1, 2, 1, 1, 8, 2, 7, 5, 8, 2, 9, 3, 8, 9, 2, 8, 9, 3, 4, 8, 9, 5, 5, 7, 2, 5, 8, 8, 1, 2, 3, 9, 3, 9, 6, 3, 2, 3, 2, 2, 1, 7, 3, 5, 6, 9, 7, 2, 3, 1, 1, 3, 7, 9, 3, 8, 1, 4, 0, 8, 9, 4, 6, 4, 6, 4, 1, 1, 7, 8, 4, 8, 9, 9, 6, 1, 0, 1, 0, 7, 2, 1, 0, 4, 5, 2, 3, 6, 2, 3, 8, 1, 8, 9, 4, 1, 5, 7, 7, 1, 2, 9, 9, 0, 9, 7, 2, 9, 8, 9, 0, 6, 8, 3, 5, 8, 6, 5, 3, 1, 2, 0, 0, 5, 6, 2, 5, 6, 6, 8, 8, 5, 9, 6, 3, 3, 5, 3, 8, 5, 9, 2, 2, 9, 4, 0, 0, 1, 3, 4, 3, 5, 9, 6, 3, 6, 2, 9, 8, 3, 2, 3, 2, 4, 9, 2, 2, 1, 6, 4, 2, 7, 6, 6, 6, 0, 1, 2, 6, 2, 4, 4, 6, 6, 0, 7, 2, 3, 5, 2, 5, 0, 5, 1, 3, 6, 7, 9, 8, 3, 2, 1, 4, 3, 4, 3, 5, 6, 8, 4, 3, 0, 9, 2, 0, 7, 7, 6, 6, 4, 2, 9, 8, 2, 9, 5, 3, 0, 4, 0, 2, 3, 9, 1, 3, 9, 1, 0, 7, 4, 4, 0, 2, 1, 1, 1, 8, 5, 8, 3, 7, 3, 1, 3, 5, 4, 1, 0, 5, 8, 8, 9, 1, 6, 7, 0, 8, 6, 9, 1, 3, 0, 7, 7, 1, 0, 9, 3, 9, 0, 3, 7, 1, 2, 4, 9, 6, 3, 9, 9, 4, 4, 0, 6, 8, 9, 9, 7, 5, 0, 4, 2, 2, 8, 6, 4, 3, 9, 8, 2, 2, 0, 3, 1, 1, 2, 8, 2, 6, 9, 6, 8, 4, 5, 6, 5, 4, 6, 9, 0, 0, 7, 1, 8, 9, 3, 9, 9, 0, 7, 7, 3, 0, 8, 3, 3, 3, 7, 7, 8, 7, 5, 2, 2, 2, 4, 4, 8, 9, 1, 3, 6, 6, 0, 0, 5, 3, 8, 4, 3, 4, 3, 5, 0, 9, 1, 0, 0, 6, 5, 9, 7, 9, 9, 6, 2, 5, 2, 0, 3, 1, 6, 6, 2, 1, 4, 4, 1, 5, 8, 0, 4, 3, 8, 2, 8, 5, 0, 5, 8, 5, 2, 1, 1, 7, 0, 9, 1, 5, 7, 4, 5, 6, 7, 6, 0, 0, 9, 7, 3, 1, 9, 2, 4, 6, 6, 2, 8, 7, 0, 9, 6, 6, 1, 2, 2, 8, 9, 7, 4, 7, 2, 7, 7, 8, 8, 2, 0, 2, 8, 1, 2, 9, 5, 4, 7, 6, 2, 3, 1, 0, 2, 3, 3, 2, 5, 1, 2, 0, 0, 7, 9, 3, 8, 4, 3, 1, 7, 7, 2, 5, 2, 8, 9, 5, 9, 2, 1, 7, 4, 4, 0, 3, 7, 1, 5, 4, 2, 8, 4, 9, 8, 7, 8, 4, 2, 3, 4, 0, 5, 4, 1, 2, 3, 6, 4, 5, 4, 5, 3, 7, 9, 4, 0, 4, 9, 3, 1, 4, 5, 5, 9, 7, 1, 7, 0, 1, 9, 7, 4, 0, 6, 3, 3, 7, 5, 5, 8, 9, 4, 6, 9, 6, 6, 8, 2, 6, 7, 8, 4, 1, 3, 0, 2, 3, 6, 0, 1, 6, 2, 2, 0, 2, 4, 3, 0, 4, 4, 4, 4, 9, 5, 3, 7, 6, 5, 7, 5, 6, 5, 2, 2, 4, 7, 5, 7, 6, 5, 0, 2, 3, 9, 0, 3, 8, 0, 7, 0, 6, 8, 1, 5, 8, 9, 1, 4, 4, 2, 5, 5, 2, 5, 6, 5, 0, 3, 4, 1, 3, 5, 7, 7, 4, 1, 2, 3, 9, 7, 1, 7, 6, 1, 4, 8, 5, 1, 2, 8, 6, 3, 3, 3, 3, 9, 4, 8, 7, 2, 9, 5, 8, 3, 4, 9, 1, 0, 4, 8, 6, 8, 0, 2, 5, 4, 6, 9, 2, 7, 6, 0, 3, 2, 9, 7, 5, 0, 7, 0, 7, 5, 4, 3, 8, 2, 5, 9, 6, 9, 0, 9, 2, 1, 1, 4, 9, 0, 9, 4, 2, 5, 8, 5, 9, 8, 2, 8, 8, 6, 6, 8, 6, 9, 2, 4, 1, 5, 3, 5, 2, 3, 6, 1, 4, 6, 9, 1, 8, 1, 1, 2, 5, 4, 7, 9, 3, 2, 7, 3, 3, 3, 9, 6, 9, 1, 8, 6, 9, 4, 5, 2, 1, 8, 0, 9, 9, 7, 9, 1, 2, 4, 8, 2, 2, 9, 0, 7, 8, 9, 6, 5, 5, 2, 3, 1, 9, 6, 1, 8, 4, 5, 2, 5, 2, 0, 9, 0, 7, 7, 9, 6, 5, 4, 6, 7, 9, 5, 1, 3, 7, 2, 0, 0, 2, 4, 9, 8, 1, 9, 7, 5, 6, 1, 6, 1, 9, 6, 8, 8, 1, 9, 5, 2, 9, 3, 1, 1, 6, 9, 7, 3, 6, 5, 6, 9, 6, 9, 9, 5, 9, 3, 8, 0, 8, 6, 9, 1, 2, 6, 0, 7, 0, 7, 6, 7, 9, 4, 5, 0, 0, 3, 3, 9, 8, 9, 4, 2, 7, 1, 3, 4, 6, 9, 1, 7, 7, 1, 9, 7, 8, 8, 1, 9, 6, 9, 8, 5, 8, 2, 6, 9, 2, 2, 4, 0, 8, 4, 8, 1, 7, 7, 2, 6, 9, 5, 8, 2, 9, 2, 6, 3, 4, 2, 5, 6, 7, 9, 1, 2, 6, 8, 6, 7, 0, 9, 0, 2, 1, 9, 3, 8, 0, 6, 6, 2, 7, 9, 8, 0, 5, 0, 9, 6, 0, 4, 7, 1, 7, 9, 8, 4, 2, 9, 4, 5, 2, 3, 1, 5, 3, 8, 2, 3, 2, 7, 4, 8, 4, 4, 6, 1, 9, 6, 1, 7, 0, 1, 3, 5, 8, 2, 9, 4, 3, 8, 3, 3, 7, 2, 6, 0, 9, 4, 4, 9, 9, 0, 7, 5, 6, 7, 1, 2, 3, 7, 3, 6, 8, 6, 9, 8, 7, 9, 0, 3, 4, 0, 2, 3, 6, 3, 5, 9, 5, 8, 3, 4, 2, 9, 5, 6, 7, 8, 6, 1, 8, 3, 5, 8, 5, 2, 9, 0, 4, 2, 0, 7, 9, 9, 3, 8, 4, 6, 0, 7, 0, 7, 8, 4, 6, 9, 1, 5, 2, 4, 7, 9, 3, 9, 7, 5, 0, 7, 4, 8, 8, 5, 2, 0, 7, 0, 5, 1, 6, 4, 0, 9, 2, 3, 7, 4, 0, 0, 0, 4, 3, 3, 2, 6, 4, 2, 7, 8, 9, 1, 0, 1, 3, 6, 2, 8, 0, 6, 5, 9, 1, 6, 3, 1, 1, 1, 3, 0, 3, 7, 9, 9, 3, 7, 5, 7, 1, 6, 6, 9, 8, 9, 4, 4, 0, 1, 7, 9, 1, 2, 3, 1, 3, 4, 3, 9, 8, 3, 2, 2, 0, 7, 3, 6, 2, 5, 6, 9, 4, 8, 7, 5, 0, 5, 7, 9, 2, 2, 4, 1, 2, 8, 7, 1, 1, 2, 2, 6, 4, 1, 2, 2, 6, 9, 6, 1, 8, 9, 2, 3, 1, 9, 9, 3, 4, 3, 2, 0, 3, 2, 4, 1, 7, 7, 2, 8, 6, 3, 5, 3, 1, 6, 2, 4, 8, 3, 3, 5, 5, 9, 8, 8, 6, 1, 0, 6, 3, 0, 9, 6, 2, 0, 8, 7, 1, 2, 6, 9, 8, 9, 3, 7, 1, 9, 3, 0, 2, 2, 8, 3, 8, 2, 8, 4, 0, 8, 2, 3, 1, 7, 3, 2, 3, 0, 7, 1, 7, 2, 8, 1, 5, 9, 9, 6, 1, 6, 1, 2, 9, 7, 0, 9, 5, 3, 8, 2, 1, 7, 7, 7, 1, 9, 2, 9, 9, 0, 3, 6, 0, 2, 0, 0, 9, 0, 8, 9, 2, 5, 8, 2, 0, 5, 8, 7, 5, 3, 3, 3, 6, 3, 4, 3, 2, 8, 2, 7, 9, 6, 7, 3, 7, 2, 2, 3, 9, 9, 3, 6, 8, 9, 7, 7, 0, 8, 1, 5, 6, 6, 3, 6, 6, 3, 2, 9, 8, 0, 3, 9, 0, 5, 0, 7, 8, 2, 9, 4, 4, 6, 3, 8, 4, 6, 7, 3, 0, 9, 2, 3, 3, 7, 9, 9, 9, 3, 5, 9, 9, 6, 8, 8, 8, 8, 1, 0, 1, 8, 8, 6, 3, 9, 0, 6, 1, 5, 6, 3, 6, 5, 6, 5, 7, 3, 3, 3, 8, 9, 4, 4, 3, 2, 3, 6, 0, 8, 5, 7, 8, 4, 2, 5, 5, 1, 8, 9, 0, 4, 9, 4, 3, 7, 3, 3, 2, 7, 7, 8, 7, 0, 5, 5, 6, 1, 1, 4, 9, 6, 2, 9, 7, 8, 8, 3, 2, 4, 9, 8, 2, 0, 4, 2, 5, 8, 7, 8, 7, 1, 8, 7, 0, 2, 4, 4, 5, 8, 6, 1, 1, 6, 3, 2, 2, 8, 9, 8, 3, 9, 8, 1, 0, 1, 5, 2, 8, 2, 0, 2, 0, 6, 3, 9, 6, 6, 5, 9, 7, 8, 6, 3, 5, 1, 1, 2, 9, 5, 8, 5, 5, 8, 7, 2, 0, 8, 3, 2, 1, 2, 3, 3, 2, 3, 0, 9, 4, 8, 4, 7, 4, 5, 8, 9, 6, 2, 6, 5, 3, 3, 7, 7, 4, 4, 9, 0, 0, 5, 7, 7, 8, 5, 2, 7, 6, 6, 3, 5, 3, 3, 8, 5, 5, 0, 3, 4, 9, 2, 1, 6, 2, 9, 2, 5, 7, 4, 9, 1, 3, 0, 4, 7, 1, 7, 5, 9, 6, 1, 6, 6, 4, 6, 2, 3, 8, 4, 4, 3, 8, 5, 8, 9, 4, 3, 4, 5, 9, 3, 0, 1, 1, 1, 1, 6, 8, 7, 1, 3, 0, 2, 4, 9, 7, 0, 6, 2, 6, 9, 8, 6, 8, 5, 8, 2, 9, 6, 0, 2, 1, 8, 2, 6, 2, 3, 6, 5, 2, 9, 2, 5, 4, 9, 8, 5, 2, 9, 6, 3, 7, 1, 8, 5, 8, 6, 4, 5, 1, 3, 7, 3, 9, 9, 7, 4, 9, 7, 1, 4, 4, 5, 9, 8, 6, 3, 3, 6, 9, 7, 3, 6, 3, 8, 8, 2, 0, 4, 9, 2, 5, 5, 7, 2, 3, 1, 0, 3, 0, 4, 2, 9, 1, 9, 7, 9, 2, 7, 9, 0, 4, 0, 9, 4, 0, 1, 1, 1, 5, 9, 0, 9, 6, 7, 2, 9, 9, 0, 8, 6, 1, 9, 7, 8, 9, 1, 6, 6, 6, 3, 9, 2, 8, 8, 8, 3, 6, 6, 7, 0, 0, 7, 6, 4, 1, 3, 0, 6, 6, 0, 6, 3, 1, 0, 9, 3, 7, 1, 5, 4, 3, 2, 1, 7, 8, 4, 2, 1, 7, 8, 8, 7, 7, 6, 4, 0, 0, 5, 9, 2, 6, 3, 1, 3, 8, 6, 8, 9, 9, 2, 7, 6, 5, 0, 6, 0, 1, 6, 1, 1, 3, 5, 2, 2, 3, 8, 9, 6, 6, 1, 8, 8, 6, 2, 7, 4, 3, 6, 9, 2, 4, 3, 7, 5, 9, 4, 1, 0, 5, 6, 7, 7, 7, 2, 2, 3, 2, 6, 6, 6, 4, 0, 7, 1, 7, 3, 0, 8, 1, 7, 4, 1, 2, 3, 4, 9, 8, 3, 8, 7, 6, 3, 2, 7, 2, 3, 1, 5, 5, 0, 7, 4, 7, 9, 3, 7, 7, 9, 7, 8, 3, 1, 8, 2, 0, 5, 7, 3, 7, 9, 6, 8, 2, 8, 2, 5, 9, 0, 4, 8, 5, 4, 5, 5, 8, 0, 4, 8, 6, 4, 2, 4, 1, 7, 2, 0, 3, 4, 2, 4, 8, 7, 2, 0, 5, 7, 5, 6, 8, 9, 9, 3, 5, 2, 9, 1, 7, 2, 5, 3, 4, 2, 3, 2, 0, 3, 3, 1, 5, 3, 2, 6, 8, 9, 3, 3, 7, 3, 6, 6, 4, 9, 2, 8, 0, 8, 9, 8, 2, 5, 7, 2, 0, 3, 6, 1, 2, 4, 3, 5, 0, 0, 7, 4, 6, 5, 6, 4, 8, 3, 4, 3, 5, 0, 2, 6, 7, 3, 0, 9, 9, 6, 1, 0, 2, 6, 2, 2, 9, 2, 6, 3, 6, 0, 7, 0, 1, 9, 2, 7, 2, 3, 0, 2, 7, 6, 4, 3, 8, 8, 2, 9, 0, 9, 6, 6, 3, 8, 7, 4, 1, 8, 1, 7, 2, 4, 8, 3, 2, 6, 4, 4, 9, 9, 0, 7, 2, 8, 3, 0, 9, 2, 2, 2, 3, 0, 4, 9, 7, 1, 8, 7, 3, 3, 9, 7, 5, 3, 0, 9, 1, 8, 9, 1, 6, 3, 8, 7, 3, 3, 5, 8, 4, 8, 9, 8, 6, 0, 0, 8, 2, 7, 4, 6, 7, 6, 0, 1, 1, 7, 1, 9, 0, 1, 4, 5, 8, 4, 9, 6, 0, 7, 4, 6, 8, 9, 4, 2, 0, 4, 9, 2, 9, 9, 9, 2, 6, 5, 0, 9, 7, 1, 8, 6, 0, 2, 3, 8, 1, 9, 4, 7, 7, 9, 8, 6, 9, 4, 1, 7, 7, 6, 7, 0, 0, 2, 6, 8, 4, 3, 2, 6, 8, 0, 6, 2, 5, 2, 8, 3, 1, 6, 5, 9, 4, 2, 5, 6, 0, 6, 2, 2, 4, 1, 0, 5, 9, 8, 9, 4, 5, 9, 3, 8, 1, 6, 4, 7, 2, 4, 2, 0, 2, 3, 2, 9, 7, 7, 8, 1, 0, 0, 9, 7, 2, 3, 8, 0, 5, 9, 5, 8, 4, 0, 0, 9, 2, 6, 7, 7, 9, 4, 2, 5, 3, 2, 3, 2, 0, 8, 4, 9, 6, 5, 8, 0, 3, 8, 6, 4, 3, 3, 3, 9, 7, 9, 7, 9, 0, 1, 8, 8, 1, 2, 7, 9, 4, 4, 0, 6, 2, 4, 1, 5, 7, 5, 8, 5, 9, 0, 5, 3, 3, 2, 7, 6, 3, 2, 5, 9, 0, 5, 9, 9, 8, 7, 3, 4, 8, 6, 8, 2, 3, 1, 0, 4, 1, 8, 8, 4, 9, 4, 4, 4, 3, 9, 5, 0, 1, 2, 8, 4, 4, 8, 5, 3, 8, 5, 7, 6, 2, 5, 4, 7, 3, 3, 9, 1, 1, 5, 2, 3, 0, 6, 0, 4, 1, 2, 5, 6, 3, 8, 9, 3, 6, 8, 4, 3, 0, 6, 7, 2, 8, 9, 2, 0, 4, 9, 8, 8, 9, 1, 1, 5, 0, 0, 8, 4, 9, 7, 4, 7, 2, 5, 3, 2, 0, 6, 6, 0, 1, 3, 9, 8, 3, 7, 8, 8, 4, 8, 1, 0, 1, 7, 1, 6, 2, 5, 3, 2, 9, 5, 9, 8, 2, 9, 1, 6, 0, 3, 1, 3, 3, 0, 3, 1, 8, 2, 2, 9, 7, 9, 8, 8, 6, 7, 3, 7, 1, 8, 9, 9, 9, 2, 6, 2, 0, 5, 3, 0, 5, 7, 7, 5, 5, 8, 3, 5, 1, 9, 6, 2, 3, 9, 0, 0, 2, 8, 8, 4, 5, 7, 8, 9, 9, 7, 9, 7, 8, 7, 9, 8, 5, 4, 8, 7, 7, 3, 3, 8, 2, 9, 9, 5, 3, 3, 9, 5, 2, 8, 7, 3, 3, 3, 7, 9, 7, 2, 7, 3, 6, 4, 5, 9, 2, 2, 1, 9, 6, 0, 3, 6, 7, 4, 7, 9, 8, 7, 4, 5, 2, 6, 1, 1, 8, 6, 8, 3, 9, 5, 8, 5, 8, 6, 1, 1, 5, 0, 6, 0, 9, 2, 0, 2, 0, 9, 3, 5, 6, 2, 9, 1, 3, 9, 8, 7, 1, 7, 5, 2, 2, 9, 7, 3, 3, 9, 9, 4, 6, 2, 1, 3, 8, 4, 9, 0, 4, 5, 7, 2, 2, 1, 7, 6, 9, 6, 9, 8, 8, 3, 6, 6, 9, 5, 7, 8, 2, 3, 1, 7, 3, 8, 2, 5, 1, 5, 7, 2, 6, 4, 1, 2, 4, 6, 5, 1, 3, 5, 3, 6, 5, 5, 0, 8, 4, 7, 2, 7, 7, 3, 4, 5, 0, 6, 8, 8, 3, 4, 1, 6, 1, 7, 0, 3, 4, 2, 9, 4, 5, 8, 9, 7, 0, 9, 4, 9, 0, 8, 2, 8, 5, 7, 7, 2, 2, 0, 0, 9, 7, 4, 1, 6, 6, 8, 8, 9, 8, 9, 0, 1, 4, 6, 0, 9, 2, 6, 4, 6, 5, 4, 0, 8, 3, 1, 7, 0, 3, 2, 9, 9, 9, 9, 9, 9, 2, 4, 5, 4, 2, 9, 3, 0, 9, 6, 6, 8, 0, 6, 7, 5, 6, 8, 0, 5, 4, 1, 2, 0, 9, 6, 4, 1, 4, 6, 9, 9, 7, 7, 4, 6, 2, 0, 9, 3, 0, 1, 7, 9, 0, 9, 3, 8, 3, 7, 6, 8, 5, 4, 5, 1, 0, 3, 2, 1, 7, 5, 0, 3, 7, 5, 9, 1, 5, 8, 9, 1, 9, 8, 5, 3, 3, 9, 7, 8, 5, 0, 5, 6, 5, 3, 2, 0, 1, 4, 8, 7, 4, 6, 6, 4, 8, 1, 8, 6, 6, 7, 9, 2, 0, 1, 4, 9, 1, 6, 7, 2, 0, 1, 7, 6, 5, 2, 2, 5, 3, 0, 9, 0, 1, 7, 1, 3, 5, 8, 7, 2, 6, 5, 8, 8, 3, 9, 7, 6, 5, 1, 1, 0, 5, 3, 9, 4, 8, 1, 7, 7, 9, 9, 5, 0, 6, 3, 2, 8, 2, 7, 6, 7, 2, 2, 1, 2, 9, 2, 2, 9, 6, 5, 0, 1, 8, 7, 9, 0, 4, 7, 4, 3, 9, 9, 7, 9, 9, 7, 4, 6, 8, 1, 4, 4, 9, 9, 8, 0, 6, 3, 7, 0, 8, 1, 8, 2, 2, 3, 2, 9, 7, 4, 8, 8, 5, 2, 1, 6, 5, 9, 1, 9, 3, 0, 0, 3, 0, 2, 0, 7, 3, 9, 4, 7, 7, 5, 5, 9, 3, 6, 1, 6, 4, 0, 4, 7, 8, 4, 4, 0, 9, 6, 9, 2, 6, 3, 2, 4, 5, 2, 2, 0, 8, 1, 0, 1, 5, 8, 2, 9, 6, 9, 4, 9, 1, 3, 4, 1, 2, 0, 1, 5, 0, 8, 1, 9, 3, 5, 1, 8, 1, 8, 2, 1, 1, 0, 5, 5, 4, 0, 3, 1, 4, 0, 2, 9, 5, 1, 2, 4, 7, 8, 7, 2, 4, 7, 2, 3, 8, 4, 1, 3, 9, 8, 0, 2, 0, 4, 6, 0, 6, 1, 4, 5, 1, 4, 6, 0, 6, 9, 6, 9, 1, 9, 8, 9, 7, 2, 9, 0, 2, 4, 9, 0, 2, 5, 0, 7, 9, 1, 5, 9, 8, 4, 5, 2, 8, 0, 3, 7, 2, 1, 4, 4, 8, 9, 5, 8, 2, 6, 6, 0, 1, 1, 1, 8, 1, 4, 9, 0, 7, 8, 2, 1, 2, 9, 3, 2, 0, 2, 7, 0, 4, 0, 9, 2, 8, 9, 0, 8, 7, 7, 9, 8, 4, 9, 5, 2, 1, 7, 9, 7, 7, 0, 3, 8, 3, 3, 0, 5, 7, 0, 8, 0, 0, 9, 0, 0, 3, 4, 2, 4, 2, 6, 3, 2, 8, 2, 9, 9, 0, 1, 7, 5, 5, 4, 3, 0, 7, 6, 1, 7, 9, 0, 1, 8, 4, 7, 9, 3, 3, 3, 8, 3, 5, 3, 7]\n"
     ]
    }
   ],
   "source": [
    "y_classes = [np.argmax(element) for element in y_pred]\n",
    "print(y_classes)"
   ]
  },
  {
   "cell_type": "code",
   "execution_count": 16,
   "id": "6cb3f01b",
   "metadata": {},
   "outputs": [
    {
     "data": {
      "text/plain": [
       "'ship'"
      ]
     },
     "execution_count": 16,
     "metadata": {},
     "output_type": "execute_result"
    }
   ],
   "source": [
    "classes[y_classes[2]]"
   ]
  },
  {
   "cell_type": "code",
   "execution_count": 17,
   "id": "68ca388c",
   "metadata": {},
   "outputs": [
    {
     "data": {
      "text/plain": [
       "['models/cnn_model.joblib']"
      ]
     },
     "execution_count": 17,
     "metadata": {},
     "output_type": "execute_result"
    }
   ],
   "source": [
    "# Save the model using Joblib\n",
    "joblib.dump(cnn, 'models/cnn_model.joblib')"
   ]
  },
  {
   "cell_type": "code",
   "execution_count": 18,
   "id": "d4e990af",
   "metadata": {},
   "outputs": [],
   "source": [
    "deneme = joblib.load('models/cnn_model.joblib')"
   ]
  },
  {
   "cell_type": "code",
   "execution_count": 19,
   "id": "09783ce7",
   "metadata": {},
   "outputs": [
    {
     "data": {
      "image/png": "[encoded data removed]",
      "text/plain": [
       "<Figure size 432x288 with 1 Axes>"
      ]
     },
     "metadata": {
      "needs_background": "light"
     },
     "output_type": "display_data"
    }
   ],
   "source": [
    "img_path = \"media/dog.jpg\"\n",
    "img = image.load_img(img_path, target_size=(32, 32))\n",
    "plt.imshow(img)\n",
    "plt.show() "
   ]
  },
  {
   "cell_type": "code",
   "execution_count": 20,
   "id": "6b263853",
   "metadata": {},
   "outputs": [],
   "source": [
    "img_array = image.img_to_array(img)\n",
    "img_batch = np.expand_dims(img_array, axis=0)\n",
    "img_batch = img_batch/255"
   ]
  },
  {
   "cell_type": "code",
   "execution_count": 21,
   "id": "1a720954",
   "metadata": {},
   "outputs": [
    {
     "name": "stdout",
     "output_type": "stream",
     "text": [
      "1/1 [==============================] - 0s 42ms/step\n"
     ]
    },
    {
     "data": {
      "text/plain": [
       "'deer'"
      ]
     },
     "execution_count": 21,
     "metadata": {},
     "output_type": "execute_result"
    }
   ],
   "source": [
    "output = deneme.predict(img_batch)\n",
    "classes[np.argmax(output)]"
   ]
  },
  {
   "cell_type": "code",
   "execution_count": null,
   "id": "ac3b2184",
   "metadata": {},
   "outputs": [],
   "source": []
  }
 ],
 "metadata": {
  "kernelspec": {
   "display_name": "Python 3 (ipykernel)",
   "language": "python",
   "name": "python3"
  },
  "language_info": {
   "codemirror_mode": {
    "name": "ipython",
    "version": 3
   },
   "file_extension": ".py",
   "mimetype": "text/x-python",
   "name": "python",
   "nbconvert_exporter": "python",
   "pygments_lexer": "ipython3",
   "version": "3.10.6"
  }
 },
 "nbformat": 4,
 "nbformat_minor": 5
}
